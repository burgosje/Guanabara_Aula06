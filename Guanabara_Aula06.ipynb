{
  "nbformat": 4,
  "nbformat_minor": 0,
  "metadata": {
    "colab": {
      "provenance": [],
      "authorship_tag": "ABX9TyO6pOkY4E0jIc+ejcGsEAc+",
      "include_colab_link": true
    },
    "kernelspec": {
      "name": "python3",
      "display_name": "Python 3"
    },
    "language_info": {
      "name": "python"
    }
  },
  "cells": [
    {
      "cell_type": "markdown",
      "metadata": {
        "id": "view-in-github",
        "colab_type": "text"
      },
      "source": [
        "<a href=\"https://colab.research.google.com/github/burgosje/Guanabara_Aula06/blob/main/Guanabara_Aula06.ipynb\" target=\"_parent\"><img src=\"https://colab.research.google.com/assets/colab-badge.svg\" alt=\"Open In Colab\"/></a>"
      ]
    },
    {
      "cell_type": "markdown",
      "source": [
        "Curso em Vídeo / Python / Aula 06"
      ],
      "metadata": {
        "id": "c_KWIt5zU21M"
      }
    },
    {
      "cell_type": "code",
      "execution_count": null,
      "metadata": {
        "id": "xxMxA3MkLpAp"
      },
      "outputs": [],
      "source": [
        "n1 = int(input(\"Digite um número: \"))\n",
        "n2 = int(input(\"Digite mais um número: \"))\n",
        "\n",
        "s = n1 + n2\n",
        "\n",
        "print(\"A soma vale\",s)"
      ]
    },
    {
      "cell_type": "code",
      "source": [
        "int = 7, -4, 0, 9875\n",
        "float = 4.5, 0.076, -15.223, 7.0\n",
        "bool = True, False\n",
        "str = 'Olá', '7.5', ''"
      ],
      "metadata": {
        "id": "z19ZZieWMyF2"
      },
      "execution_count": null,
      "outputs": []
    },
    {
      "cell_type": "code",
      "source": [
        "print('A soma vale',s)\n",
        "print('A soma vale()'.format(s))"
      ],
      "metadata": {
        "id": "0KO5vSjTNyE-"
      },
      "execution_count": null,
      "outputs": []
    },
    {
      "cell_type": "code",
      "source": [
        "n1 = int(input('Digite um valor: '))\n",
        "print(type(n1))"
      ],
      "metadata": {
        "id": "p_u7qOEDOThK"
      },
      "execution_count": null,
      "outputs": []
    },
    {
      "cell_type": "code",
      "source": [
        "n1 = int(input('Digite um valor: '))\n",
        "n2 = int(input('Digite outro valor: '))\n",
        "\n",
        "s = n1 + n2\n",
        "\n",
        "print('A soma entre', n1, 'e', n2,'vale', s)"
      ],
      "metadata": {
        "colab": {
          "base_uri": "https://localhost:8080/"
        },
        "id": "12etawsiO_uo",
        "outputId": "0b532ed9-b7b1-4118-c5d7-70a28e724693"
      },
      "execution_count": null,
      "outputs": [
        {
          "output_type": "stream",
          "name": "stdout",
          "text": [
            "Digite um valor: 2\n",
            "Digite outro valor: 3\n",
            "A soma entre 2 e 3 vale 5\n"
          ]
        }
      ]
    },
    {
      "cell_type": "code",
      "source": [
        "n1 = int(input('Digite um valor: '))\n",
        "n2 = int(input('Digite outro valor: '))\n",
        "\n",
        "s = n1 + n2\n",
        "\n",
        "print('A soma entre {} e {} vale {}'.format(n1, n2, s))\n",
        "#print('A soma entre {0} e {1} vale {2}'.format(n1, n2, s))"
      ],
      "metadata": {
        "id": "mCwYxmYWQHxU"
      },
      "execution_count": null,
      "outputs": []
    },
    {
      "cell_type": "code",
      "source": [
        "n = float(input('Digite um valor: '))\n",
        "print(type(n))"
      ],
      "metadata": {
        "id": "lvGumZO1RBEv"
      },
      "execution_count": null,
      "outputs": []
    },
    {
      "cell_type": "code",
      "source": [
        "n = input('Digite um valor: ')\n",
        "print(n.isnumeric())"
      ],
      "metadata": {
        "colab": {
          "base_uri": "https://localhost:8080/"
        },
        "id": "6xeSFz6CRdDs",
        "outputId": "ff2f87f0-1bbd-4b13-8759-ff7266ede6ab"
      },
      "execution_count": null,
      "outputs": [
        {
          "output_type": "stream",
          "name": "stdout",
          "text": [
            "Digite um valor: alfa\n",
            "False\n"
          ]
        }
      ]
    },
    {
      "cell_type": "code",
      "source": [
        "n = input('Digite um valor: ')\n",
        "print(n.isalnum())"
      ],
      "metadata": {
        "colab": {
          "base_uri": "https://localhost:8080/"
        },
        "id": "d-Vi-Vq4R38E",
        "outputId": "c60855da-13e8-478c-d715-495e04bf3b67"
      },
      "execution_count": null,
      "outputs": [
        {
          "output_type": "stream",
          "name": "stdout",
          "text": [
            "Digite um valor: 4a\n",
            "True\n"
          ]
        }
      ]
    },
    {
      "cell_type": "code",
      "source": [
        "n = input('Digite um valor: ')\n",
        "print(n.isalpha())"
      ],
      "metadata": {
        "colab": {
          "base_uri": "https://localhost:8080/"
        },
        "id": "v_U8FJfHSL6f",
        "outputId": "3f821fd1-9cd1-42a7-b3f9-fb6062e46867"
      },
      "execution_count": null,
      "outputs": [
        {
          "output_type": "stream",
          "name": "stdout",
          "text": [
            "Digite um valor: a\n",
            "True\n"
          ]
        }
      ]
    },
    {
      "cell_type": "code",
      "source": [
        "n = input('Digite um valor: ')\n",
        "print(n.isupper())"
      ],
      "metadata": {
        "colab": {
          "base_uri": "https://localhost:8080/"
        },
        "id": "CcsotMSgSUm0",
        "outputId": "aa092c66-addb-4634-ad73-15267289a865"
      },
      "execution_count": null,
      "outputs": [
        {
          "output_type": "stream",
          "name": "stdout",
          "text": [
            "Digite um valor: OI\n",
            "True\n"
          ]
        }
      ]
    },
    {
      "cell_type": "code",
      "source": [
        "n1 = float(input('Digite um valor: '))\n",
        "n2 = float(input('Digite outro valor: '))\n",
        "\n",
        "soma = n1 + n2\n",
        "\n",
        "print(f'A soma dos dois números é {soma}')"
      ],
      "metadata": {
        "id": "9yWl3kzXSgHl",
        "colab": {
          "base_uri": "https://localhost:8080/"
        },
        "outputId": "d010c3c7-fbd7-46b8-da7f-ff14190cc81f"
      },
      "execution_count": null,
      "outputs": [
        {
          "output_type": "stream",
          "name": "stdout",
          "text": [
            "Digite um valor: 2\n",
            "Digite outro valor: 3\n",
            "A soma dos dois números é 5.0\n"
          ]
        }
      ]
    }
  ]
}